{
 "cells": [
  {
   "cell_type": "markdown",
   "id": "53a3a9a1",
   "metadata": {},
   "source": [
    "Lambda Function\n"
   ]
  },
  {
   "cell_type": "markdown",
   "id": "6c6c7b8c",
   "metadata": {},
   "source": [
    "# anonymous function\n"
   ]
  },
  {
   "cell_type": "markdown",
   "id": "640bd143",
   "metadata": {},
   "source": [
    "A function with no name.\n"
   ]
  },
  {
   "cell_type": "code",
   "execution_count": 3,
   "id": "36aeec8b",
   "metadata": {},
   "outputs": [],
   "source": [
    "def addition(a,b):\n",
    "    return(a+b)"
   ]
  },
  {
   "cell_type": "code",
   "execution_count": 4,
   "id": "8894f7a7",
   "metadata": {},
   "outputs": [
    {
     "data": {
      "text/plain": [
       "10"
      ]
     },
     "execution_count": 4,
     "metadata": {},
     "output_type": "execute_result"
    }
   ],
   "source": [
    "addition(4,6)"
   ]
  },
  {
   "cell_type": "code",
   "execution_count": 6,
   "id": "565a251b",
   "metadata": {},
   "outputs": [],
   "source": [
    "sub=lambda a,b:a-b"
   ]
  },
  {
   "cell_type": "code",
   "execution_count": 7,
   "id": "32326d5d",
   "metadata": {},
   "outputs": [
    {
     "data": {
      "text/plain": [
       "1"
      ]
     },
     "execution_count": 7,
     "metadata": {},
     "output_type": "execute_result"
    }
   ],
   "source": [
    "sub(4,3)"
   ]
  },
  {
   "cell_type": "code",
   "execution_count": 11,
   "id": "82467a82",
   "metadata": {},
   "outputs": [],
   "source": [
    "even=lambda a:a%2==0"
   ]
  },
  {
   "cell_type": "code",
   "execution_count": 12,
   "id": "cd66b09c",
   "metadata": {},
   "outputs": [
    {
     "data": {
      "text/plain": [
       "True"
      ]
     },
     "execution_count": 12,
     "metadata": {},
     "output_type": "execute_result"
    }
   ],
   "source": [
    "even(24)"
   ]
  },
  {
   "cell_type": "code",
   "execution_count": 14,
   "id": "d70d314c",
   "metadata": {},
   "outputs": [],
   "source": [
    "def addition(x,y,z):\n",
    "    return x+y+z"
   ]
  },
  {
   "cell_type": "code",
   "execution_count": 15,
   "id": "3fa49a44",
   "metadata": {},
   "outputs": [
    {
     "data": {
      "text/plain": [
       "24"
      ]
     },
     "execution_count": 15,
     "metadata": {},
     "output_type": "execute_result"
    }
   ],
   "source": [
    "addition(7,9,8)"
   ]
  },
  {
   "cell_type": "code",
   "execution_count": 16,
   "id": "70f7915f",
   "metadata": {},
   "outputs": [],
   "source": [
    "add=lambda x,y,z:x+y+z"
   ]
  },
  {
   "cell_type": "code",
   "execution_count": 17,
   "id": "b8958adb",
   "metadata": {},
   "outputs": [
    {
     "data": {
      "text/plain": [
       "19"
      ]
     },
     "execution_count": 17,
     "metadata": {},
     "output_type": "execute_result"
    }
   ],
   "source": [
    "add(5,6,8)"
   ]
  },
  {
   "cell_type": "code",
   "execution_count": null,
   "id": "5247b8b2",
   "metadata": {},
   "outputs": [],
   "source": []
  }
 ],
 "metadata": {
  "kernelspec": {
   "display_name": "Python 3 (ipykernel)",
   "language": "python",
   "name": "python3"
  },
  "language_info": {
   "codemirror_mode": {
    "name": "ipython",
    "version": 3
   },
   "file_extension": ".py",
   "mimetype": "text/x-python",
   "name": "python",
   "nbconvert_exporter": "python",
   "pygments_lexer": "ipython3",
   "version": "3.10.9"
  }
 },
 "nbformat": 4,
 "nbformat_minor": 5
}
