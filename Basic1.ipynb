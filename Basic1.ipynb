{
 "cells": [
  {
   "cell_type": "markdown",
   "id": "4745f457",
   "metadata": {},
   "source": [
    "# Python Basic\n",
    "## Welcome to Python\n"
   ]
  },
  {
   "cell_type": "code",
   "execution_count": 1,
   "id": "8f75a586",
   "metadata": {},
   "outputs": [],
   "source": [
    "first_name='Isha'\n",
    "last_name='Mishra'"
   ]
  },
  {
   "cell_type": "code",
   "execution_count": 2,
   "id": "05bc2ef0",
   "metadata": {},
   "outputs": [
    {
     "name": "stdout",
     "output_type": "stream",
     "text": [
      "My first name is Isha and last name is Mishra\n"
     ]
    }
   ],
   "source": [
    "print(\"My first name is {} and last name is {}\".format(first_name,last_name))    #ordering is very imp here "
   ]
  },
  {
   "cell_type": "code",
   "execution_count": 3,
   "id": "36253f2c",
   "metadata": {},
   "outputs": [
    {
     "name": "stdout",
     "output_type": "stream",
     "text": [
      "My First name is Isha and last name is Mishra\n"
     ]
    }
   ],
   "source": [
    "print(\"My First name is {first} and last name is {last}\".format(first=first_name,last=last_name))   #ordering is not imp here we can keep it last name first and then the firstname"
   ]
  },
  {
   "cell_type": "code",
   "execution_count": 4,
   "id": "5b140852",
   "metadata": {},
   "outputs": [],
   "source": [
    "str='isha'"
   ]
  },
  {
   "cell_type": "code",
   "execution_count": 6,
   "id": "dca36eac",
   "metadata": {},
   "outputs": [
    {
     "data": {
      "text/plain": [
       "False"
      ]
     },
     "execution_count": 6,
     "metadata": {},
     "output_type": "execute_result"
    }
   ],
   "source": [
    "str.isupper()  #returns boolean val"
   ]
  },
  {
   "cell_type": "code",
   "execution_count": 7,
   "id": "3336fb76",
   "metadata": {},
   "outputs": [],
   "source": [
    "l=[1,2,3,4,'isha']"
   ]
  },
  {
   "cell_type": "code",
   "execution_count": 8,
   "id": "5f6b659d",
   "metadata": {},
   "outputs": [],
   "source": [
    "l.append(6)"
   ]
  },
  {
   "cell_type": "code",
   "execution_count": 9,
   "id": "2e7dc693",
   "metadata": {},
   "outputs": [
    {
     "data": {
      "text/plain": [
       "[1, 2, 3, 4, 'isha', 6]"
      ]
     },
     "execution_count": 9,
     "metadata": {},
     "output_type": "execute_result"
    }
   ],
   "source": [
    "l"
   ]
  },
  {
   "cell_type": "code",
   "execution_count": 10,
   "id": "abee5ca3",
   "metadata": {},
   "outputs": [],
   "source": [
    "l.insert(5,'mishra')"
   ]
  },
  {
   "cell_type": "code",
   "execution_count": 11,
   "id": "50b44bfa",
   "metadata": {},
   "outputs": [
    {
     "data": {
      "text/plain": [
       "[1, 2, 3, 4, 'isha', 'mishra', 6]"
      ]
     },
     "execution_count": 11,
     "metadata": {},
     "output_type": "execute_result"
    }
   ],
   "source": [
    "l"
   ]
  },
  {
   "cell_type": "code",
   "execution_count": 12,
   "id": "b9362dbd",
   "metadata": {},
   "outputs": [
    {
     "ename": "TypeError",
     "evalue": "'builtin_function_or_method' object is not subscriptable",
     "output_type": "error",
     "traceback": [
      "\u001b[1;31m------------------------------------------------\u001b[0m",
      "\u001b[1;31mTypeError\u001b[0m      Traceback (most recent call last)",
      "Cell \u001b[1;32mIn[12], line 1\u001b[0m\n\u001b[1;32m----> 1\u001b[0m \u001b[43ml\u001b[49m\u001b[38;5;241;43m.\u001b[39;49m\u001b[43mpop\u001b[49m\u001b[43m[\u001b[49m\u001b[38;5;241;43m1\u001b[39;49m\u001b[43m]\u001b[49m\n",
      "\u001b[1;31mTypeError\u001b[0m: 'builtin_function_or_method' object is not subscriptable"
     ]
    }
   ],
   "source": [
    "l.pop[1]"
   ]
  },
  {
   "cell_type": "code",
   "execution_count": null,
   "id": "fe8ba3cb",
   "metadata": {},
   "outputs": [],
   "source": []
  }
 ],
 "metadata": {
  "kernelspec": {
   "display_name": "Python 3 (ipykernel)",
   "language": "python",
   "name": "python3"
  },
  "language_info": {
   "codemirror_mode": {
    "name": "ipython",
    "version": 3
   },
   "file_extension": ".py",
   "mimetype": "text/x-python",
   "name": "python",
   "nbconvert_exporter": "python",
   "pygments_lexer": "ipython3",
   "version": "3.10.9"
  }
 },
 "nbformat": 4,
 "nbformat_minor": 5
}
