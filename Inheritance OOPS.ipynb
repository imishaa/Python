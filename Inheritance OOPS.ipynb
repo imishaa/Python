{
 "cells": [
  {
   "cell_type": "markdown",
   "id": "e119fa47",
   "metadata": {},
   "source": [
    "# Inheritance\n"
   ]
  },
  {
   "cell_type": "code",
   "execution_count": 12,
   "id": "aed28159",
   "metadata": {},
   "outputs": [],
   "source": [
    "class Car:\n",
    "    def __init__(self,window,door,engine):\n",
    "        self.windows=window\n",
    "        self.doors=door\n",
    "        self.engines=engine     \n",
    "    def drive(self):\n",
    "        print(\"person drives a car\")"
   ]
  },
  {
   "cell_type": "code",
   "execution_count": 13,
   "id": "357afdf9",
   "metadata": {},
   "outputs": [],
   "source": [
    "car=Car(4,5,'electric')"
   ]
  },
  {
   "cell_type": "code",
   "execution_count": 14,
   "id": "b3e3e62c",
   "metadata": {},
   "outputs": [
    {
     "name": "stdout",
     "output_type": "stream",
     "text": [
      "person drives a car\n"
     ]
    }
   ],
   "source": [
    "car.drive()"
   ]
  },
  {
   "cell_type": "code",
   "execution_count": 18,
   "id": "80c062d7",
   "metadata": {},
   "outputs": [],
   "source": [
    "class Audi(Car):\n",
    "    def __init__(self,window,door,engine,aifeature):\n",
    "        super().__init__(window,door,engine)\n",
    "        self.aifeature=aifeature\n",
    "    def self_drive(self):\n",
    "        print(\"Audi supports self driving\")\n",
    "    "
   ]
  },
  {
   "cell_type": "code",
   "execution_count": 19,
   "id": "8eadbfa8",
   "metadata": {},
   "outputs": [],
   "source": [
    "audiQ5=Audi(4,5,\"petrol\",True)"
   ]
  },
  {
   "cell_type": "code",
   "execution_count": 21,
   "id": "23de713d",
   "metadata": {},
   "outputs": [
    {
     "data": {
      "text/plain": [
       "['__class__',\n",
       " '__delattr__',\n",
       " '__dict__',\n",
       " '__dir__',\n",
       " '__doc__',\n",
       " '__eq__',\n",
       " '__format__',\n",
       " '__ge__',\n",
       " '__getattribute__',\n",
       " '__gt__',\n",
       " '__hash__',\n",
       " '__init__',\n",
       " '__init_subclass__',\n",
       " '__le__',\n",
       " '__lt__',\n",
       " '__module__',\n",
       " '__ne__',\n",
       " '__new__',\n",
       " '__reduce__',\n",
       " '__reduce_ex__',\n",
       " '__repr__',\n",
       " '__setattr__',\n",
       " '__sizeof__',\n",
       " '__str__',\n",
       " '__subclasshook__',\n",
       " '__weakref__',\n",
       " 'aifeature',\n",
       " 'doors',\n",
       " 'drive',\n",
       " 'engines',\n",
       " 'self_drive',\n",
       " 'windows']"
      ]
     },
     "execution_count": 21,
     "metadata": {},
     "output_type": "execute_result"
    }
   ],
   "source": [
    "dir(audiQ5)"
   ]
  },
  {
   "cell_type": "code",
   "execution_count": 22,
   "id": "4d5d9039",
   "metadata": {},
   "outputs": [
    {
     "data": {
      "text/plain": [
       "True"
      ]
     },
     "execution_count": 22,
     "metadata": {},
     "output_type": "execute_result"
    }
   ],
   "source": [
    "audiQ5.aifeature"
   ]
  },
  {
   "cell_type": "code",
   "execution_count": null,
   "id": "bb0457f6",
   "metadata": {},
   "outputs": [],
   "source": []
  }
 ],
 "metadata": {
  "kernelspec": {
   "display_name": "Python 3 (ipykernel)",
   "language": "python",
   "name": "python3"
  },
  "language_info": {
   "codemirror_mode": {
    "name": "ipython",
    "version": 3
   },
   "file_extension": ".py",
   "mimetype": "text/x-python",
   "name": "python",
   "nbconvert_exporter": "python",
   "pygments_lexer": "ipython3",
   "version": "3.10.9"
  }
 },
 "nbformat": 4,
 "nbformat_minor": 5
}
