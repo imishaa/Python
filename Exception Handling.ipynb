{
 "cells": [
  {
   "cell_type": "markdown",
   "id": "0f9719f5",
   "metadata": {},
   "source": [
    "# Exception Handling"
   ]
  },
  {
   "cell_type": "code",
   "execution_count": 1,
   "id": "36d024b7",
   "metadata": {},
   "outputs": [
    {
     "name": "stdout",
     "output_type": "stream",
     "text": [
      "The user may not have defined the variable\n"
     ]
    }
   ],
   "source": [
    "try:\n",
    "    ##code block where exception can occur\n",
    "    a=b\n",
    "except NameError:\n",
    "    print(\"The user may not have defined the variable\")\n",
    "except Exception as ex:\n",
    "    print(ex)"
   ]
  },
  {
   "cell_type": "code",
   "execution_count": 2,
   "id": "121844f6",
   "metadata": {},
   "outputs": [
    {
     "ename": "NameError",
     "evalue": "name 'b' is not defined",
     "output_type": "error",
     "traceback": [
      "\u001b[1;31m---------------------------------------------------------------------------\u001b[0m",
      "\u001b[1;31mNameError\u001b[0m                                 Traceback (most recent call last)",
      "Cell \u001b[1;32mIn[2], line 1\u001b[0m\n\u001b[1;32m----> 1\u001b[0m a\u001b[38;5;241m=\u001b[39m\u001b[43mb\u001b[49m\n",
      "\u001b[1;31mNameError\u001b[0m: name 'b' is not defined"
     ]
    }
   ],
   "source": [
    "a=b"
   ]
  },
  {
   "cell_type": "code",
   "execution_count": 3,
   "id": "c994e840",
   "metadata": {},
   "outputs": [
    {
     "name": "stdout",
     "output_type": "stream",
     "text": [
      "Enter the num 1 12\n",
      "Enter the num 2 0\n",
      "Provide number greater than Zero\n"
     ]
    }
   ],
   "source": [
    "try:\n",
    "    ##code block where exception can occur\n",
    "    a=int(input(\"Enter the num 1 \"))\n",
    "    b=int(input(\"Enter the num 2 \"))\n",
    "    c=a/b\n",
    "    d=a*b\n",
    "    e=a+b    \n",
    "except NameError:\n",
    "    print(\"The user may not have defined the variable\")\n",
    "except ZeroDivisionError:\n",
    "    print(\"Provide number greater than Zero\")\n",
    "except TypeError:\n",
    "    print(\"Make datatype similar\")\n",
    "except Exception as ex:\n",
    "    print(ex)\n",
    "else:\n",
    "    print(c)\n",
    "    print(d)\n",
    "    print(e)"
   ]
  },
  {
   "cell_type": "code",
   "execution_count": 4,
   "id": "592e731c",
   "metadata": {},
   "outputs": [
    {
     "data": {
      "text/plain": [
       "36"
      ]
     },
     "execution_count": 4,
     "metadata": {},
     "output_type": "execute_result"
    }
   ],
   "source": [
    "12+24"
   ]
  },
  {
   "cell_type": "code",
   "execution_count": 5,
   "id": "6fc447ee",
   "metadata": {},
   "outputs": [
    {
     "name": "stdout",
     "output_type": "stream",
     "text": [
      "Enter the num 1 12\n",
      "Enter the num 2 45\n",
      "0.26666666666666666\n",
      "The execution is done\n"
     ]
    }
   ],
   "source": [
    "try:\n",
    "    ##code block where exception can occur\n",
    "    a=int(input(\"Enter the num 1 \"))\n",
    "    b=int(input(\"Enter the num 2 \"))\n",
    "    c=a/b    \n",
    "except NameError:\n",
    "    print(\"The user may not have defined the variable\")\n",
    "except ZeroDivisionError:\n",
    "    print(\"Provide number greater than Zero\")\n",
    "except TypeError:\n",
    "    print(\"Make datatype similar\")\n",
    "except Exception as ex:\n",
    "    print(ex)\n",
    "else:\n",
    "    print(c)\n",
    "    \n",
    "## finally will be executed always \n",
    "## can use finally to close the database\n",
    "\n",
    "finally:\n",
    "    print(\"The execution is done\")"
   ]
  },
  {
   "cell_type": "markdown",
   "id": "0c8196a8",
   "metadata": {},
   "source": [
    "# Custom Handling"
   ]
  },
  {
   "cell_type": "code",
   "execution_count": 2,
   "id": "c95aa2ab",
   "metadata": {},
   "outputs": [],
   "source": [
    "class Error(Exception):\n",
    "    pass\n",
    "class dobException(Error):\n",
    "    pass\n"
   ]
  },
  {
   "cell_type": "code",
   "execution_count": 4,
   "id": "4c018b0d",
   "metadata": {},
   "outputs": [
    {
     "name": "stdout",
     "output_type": "stream",
     "text": [
      "Enter dob1987\n",
      "Age is not within range. You cannot apply\n"
     ]
    }
   ],
   "source": [
    "year=int(input(\"Enter dob\"))\n",
    "age=2023-year\n",
    "try:\n",
    "    if age<=30 & age>20:\n",
    "        pass\n",
    "    else:\n",
    "        raise dobException\n",
    "except dobException:\n",
    "    print(\"Age is not within range. You cannot apply\")"
   ]
  },
  {
   "cell_type": "code",
   "execution_count": null,
   "id": "b6c6f723",
   "metadata": {},
   "outputs": [],
   "source": []
  }
 ],
 "metadata": {
  "kernelspec": {
   "display_name": "Python 3 (ipykernel)",
   "language": "python",
   "name": "python3"
  },
  "language_info": {
   "codemirror_mode": {
    "name": "ipython",
    "version": 3
   },
   "file_extension": ".py",
   "mimetype": "text/x-python",
   "name": "python",
   "nbconvert_exporter": "python",
   "pygments_lexer": "ipython3",
   "version": "3.10.9"
  }
 },
 "nbformat": 4,
 "nbformat_minor": 5
}
