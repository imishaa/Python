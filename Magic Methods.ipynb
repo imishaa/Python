{
 "cells": [
  {
   "cell_type": "markdown",
   "id": "bf137feb",
   "metadata": {},
   "source": [
    "# Magic Methods"
   ]
  },
  {
   "cell_type": "code",
   "execution_count": 8,
   "id": "40c67c8b",
   "metadata": {},
   "outputs": [],
   "source": [
    "class Car:\n",
    "    def __init__(self,window,door,engine):\n",
    "        self.windows=window\n",
    "        self.doors=door\n",
    "        self.engines=engine \n",
    "    def __sizeof__(self):\n",
    "        return \"This displays size of object\"\n",
    "    def __str__(self):\n",
    "        return \"The object has been initialised\"\n",
    "    def drive(self):\n",
    "        print(\"person drives a car\")"
   ]
  },
  {
   "cell_type": "code",
   "execution_count": 9,
   "id": "cf63d34c",
   "metadata": {},
   "outputs": [],
   "source": [
    "c=Car(4,5,'petrol')"
   ]
  },
  {
   "cell_type": "code",
   "execution_count": 7,
   "id": "9e50f948",
   "metadata": {},
   "outputs": [
    {
     "data": {
      "text/plain": [
       "'This displays size of object'"
      ]
     },
     "execution_count": 7,
     "metadata": {},
     "output_type": "execute_result"
    }
   ],
   "source": [
    "c.__sizeof__()"
   ]
  },
  {
   "cell_type": "code",
   "execution_count": null,
   "id": "7c86cebe",
   "metadata": {},
   "outputs": [],
   "source": []
  },
  {
   "cell_type": "code",
   "execution_count": null,
   "id": "e355909e",
   "metadata": {},
   "outputs": [],
   "source": []
  }
 ],
 "metadata": {
  "kernelspec": {
   "display_name": "Python 3 (ipykernel)",
   "language": "python",
   "name": "python3"
  },
  "language_info": {
   "codemirror_mode": {
    "name": "ipython",
    "version": 3
   },
   "file_extension": ".py",
   "mimetype": "text/x-python",
   "name": "python",
   "nbconvert_exporter": "python",
   "pygments_lexer": "ipython3",
   "version": "3.10.9"
  }
 },
 "nbformat": 4,
 "nbformat_minor": 5
}
