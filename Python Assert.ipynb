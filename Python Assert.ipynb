{
 "cells": [
  {
   "cell_type": "markdown",
   "id": "da6ed3a7",
   "metadata": {},
   "source": [
    "# Python Assert\n"
   ]
  },
  {
   "cell_type": "markdown",
   "id": "b5385e3c",
   "metadata": {},
   "source": [
    "Python provides the assert statement to check if a given logical expression is true or false. Prog execution proceeds only if the expression is true and raises the AssertionError when it is false. "
   ]
  },
  {
   "cell_type": "code",
   "execution_count": null,
   "id": "630b01a8",
   "metadata": {},
   "outputs": [],
   "source": [
    "num=10\n",
    "assert num>10"
   ]
  },
  {
   "cell_type": "code",
   "execution_count": null,
   "id": "93c15b0d",
   "metadata": {},
   "outputs": [],
   "source": [
    "try:\n",
    "    num=int(input(\"Enter the num \"))\n",
    "    assert num%2==0\n",
    "    print(\"The number is even\")\n",
    "except AssertionError:\n",
    "    print(\"Please enter even no\")\n",
    "          "
   ]
  },
  {
   "cell_type": "code",
   "execution_count": null,
   "id": "2f275f9d",
   "metadata": {},
   "outputs": [],
   "source": []
  }
 ],
 "metadata": {
  "kernelspec": {
   "display_name": "Python 3 (ipykernel)",
   "language": "python",
   "name": "python3"
  },
  "language_info": {
   "codemirror_mode": {
    "name": "ipython",
    "version": 3
   },
   "file_extension": ".py",
   "mimetype": "text/x-python",
   "name": "python",
   "nbconvert_exporter": "python",
   "pygments_lexer": "ipython3",
   "version": "3.10.9"
  }
 },
 "nbformat": 4,
 "nbformat_minor": 5
}
