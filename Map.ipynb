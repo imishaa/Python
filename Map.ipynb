{
 "cells": [
  {
   "cell_type": "markdown",
   "id": "dc3b0510",
   "metadata": {},
   "source": [
    "# Map Function in Python"
   ]
  },
  {
   "cell_type": "code",
   "execution_count": 9,
   "id": "65841222",
   "metadata": {},
   "outputs": [],
   "source": [
    "def even_or_odd(num):\n",
    "    if num%2==0:\n",
    "        return \"The number {} is Even\".format(num)\n",
    "    else:\n",
    "        return \"The number {} is Odd\".format(num)"
   ]
  },
  {
   "cell_type": "code",
   "execution_count": 10,
   "id": "cdc0470c",
   "metadata": {},
   "outputs": [
    {
     "data": {
      "text/plain": [
       "'The number 26 is Even'"
      ]
     },
     "execution_count": 10,
     "metadata": {},
     "output_type": "execute_result"
    }
   ],
   "source": [
    " even_or_odd(26)"
   ]
  },
  {
   "cell_type": "code",
   "execution_count": 11,
   "id": "cd946b37",
   "metadata": {},
   "outputs": [],
   "source": [
    "lst=[1,3,45,56,75,46,78,88,9,0]"
   ]
  },
  {
   "cell_type": "code",
   "execution_count": 12,
   "id": "ccc002e4",
   "metadata": {},
   "outputs": [
    {
     "data": {
      "text/plain": [
       "['The number 1 is Odd',\n",
       " 'The number 3 is Odd',\n",
       " 'The number 45 is Odd',\n",
       " 'The number 56 is Even',\n",
       " 'The number 75 is Odd',\n",
       " 'The number 46 is Even',\n",
       " 'The number 78 is Even',\n",
       " 'The number 88 is Even',\n",
       " 'The number 9 is Odd',\n",
       " 'The number 0 is Even']"
      ]
     },
     "execution_count": 12,
     "metadata": {},
     "output_type": "execute_result"
    }
   ],
   "source": [
    "list(map(even_or_odd,lst))"
   ]
  },
  {
   "cell_type": "code",
   "execution_count": null,
   "id": "5ca67341",
   "metadata": {},
   "outputs": [],
   "source": []
  }
 ],
 "metadata": {
  "kernelspec": {
   "display_name": "Python 3 (ipykernel)",
   "language": "python",
   "name": "python3"
  },
  "language_info": {
   "codemirror_mode": {
    "name": "ipython",
    "version": 3
   },
   "file_extension": ".py",
   "mimetype": "text/x-python",
   "name": "python",
   "nbconvert_exporter": "python",
   "pygments_lexer": "ipython3",
   "version": "3.10.9"
  }
 },
 "nbformat": 4,
 "nbformat_minor": 5
}
