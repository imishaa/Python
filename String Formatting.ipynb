{
 "cells": [
  {
   "cell_type": "markdown",
   "id": "20aff414",
   "metadata": {},
   "source": [
    "# String Formatting"
   ]
  },
  {
   "cell_type": "code",
   "execution_count": 1,
   "id": "79496956",
   "metadata": {},
   "outputs": [],
   "source": [
    "def greeting(name):\n",
    "    return \"Hello {}.Welcome to Kanpur\".format(name)"
   ]
  },
  {
   "cell_type": "code",
   "execution_count": 3,
   "id": "184592d4",
   "metadata": {},
   "outputs": [
    {
     "data": {
      "text/plain": [
       "'Hello Isha.Welcome to Kanpur'"
      ]
     },
     "execution_count": 3,
     "metadata": {},
     "output_type": "execute_result"
    }
   ],
   "source": [
    "greeting(\"Isha\")"
   ]
  },
  {
   "cell_type": "code",
   "execution_count": 18,
   "id": "ef5bb5c2",
   "metadata": {},
   "outputs": [],
   "source": [
    "#order of parameter is important\n",
    "\n",
    "def welcome(name,age):\n",
    "    return \"Welcome {name}.Your age is {age}\".format(name=name,age=age)"
   ]
  },
  {
   "cell_type": "code",
   "execution_count": 19,
   "id": "370cd8c2",
   "metadata": {},
   "outputs": [
    {
     "data": {
      "text/plain": [
       "'Welcome Isha.Your age is 18'"
      ]
     },
     "execution_count": 19,
     "metadata": {},
     "output_type": "execute_result"
    }
   ],
   "source": [
    "welcome(\"Isha\",18)"
   ]
  },
  {
   "cell_type": "code",
   "execution_count": null,
   "id": "e2fcc09a",
   "metadata": {},
   "outputs": [],
   "source": []
  }
 ],
 "metadata": {
  "kernelspec": {
   "display_name": "Python 3 (ipykernel)",
   "language": "python",
   "name": "python3"
  },
  "language_info": {
   "codemirror_mode": {
    "name": "ipython",
    "version": 3
   },
   "file_extension": ".py",
   "mimetype": "text/x-python",
   "name": "python",
   "nbconvert_exporter": "python",
   "pygments_lexer": "ipython3",
   "version": "3.10.9"
  }
 },
 "nbformat": 4,
 "nbformat_minor": 5
}
