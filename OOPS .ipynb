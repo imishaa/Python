{
 "cells": [
  {
   "cell_type": "markdown",
   "id": "f4aeef64",
   "metadata": {},
   "source": [
    "# OOPS CONCEPTS"
   ]
  },
  {
   "cell_type": "code",
   "execution_count": 28,
   "id": "a8cc3df8",
   "metadata": {},
   "outputs": [],
   "source": [
    "class Car:\n",
    "    def __init__(self,window,door,engine):\n",
    "        self.windows=window\n",
    "        self.doors=door\n",
    "        self.engines=engine     \n",
    "    def self_drive(self):\n",
    "        return \"This is a {} car\".format(self.engines)"
   ]
  },
  {
   "cell_type": "code",
   "execution_count": 29,
   "id": "ba724914",
   "metadata": {},
   "outputs": [],
   "source": [
    "car1=Car(4,5,\"petrol\")"
   ]
  },
  {
   "cell_type": "code",
   "execution_count": 30,
   "id": "0422de0d",
   "metadata": {},
   "outputs": [
    {
     "data": {
      "text/plain": [
       "'This is a petrol car'"
      ]
     },
     "execution_count": 30,
     "metadata": {},
     "output_type": "execute_result"
    }
   ],
   "source": [
    "car1.self_drive()"
   ]
  },
  {
   "cell_type": "code",
   "execution_count": 19,
   "id": "4177ecd6",
   "metadata": {},
   "outputs": [],
   "source": [
    "car2=Car(6,7,\"diesel\")"
   ]
  },
  {
   "cell_type": "code",
   "execution_count": 12,
   "id": "7c758146",
   "metadata": {},
   "outputs": [
    {
     "name": "stdout",
     "output_type": "stream",
     "text": [
      "4\n"
     ]
    }
   ],
   "source": [
    "print(car1.windows)"
   ]
  },
  {
   "cell_type": "code",
   "execution_count": 13,
   "id": "66908b45",
   "metadata": {},
   "outputs": [
    {
     "data": {
      "text/plain": [
       "['__class__',\n",
       " '__delattr__',\n",
       " '__dict__',\n",
       " '__dir__',\n",
       " '__doc__',\n",
       " '__eq__',\n",
       " '__format__',\n",
       " '__ge__',\n",
       " '__getattribute__',\n",
       " '__gt__',\n",
       " '__hash__',\n",
       " '__init__',\n",
       " '__init_subclass__',\n",
       " '__le__',\n",
       " '__lt__',\n",
       " '__module__',\n",
       " '__ne__',\n",
       " '__new__',\n",
       " '__reduce__',\n",
       " '__reduce_ex__',\n",
       " '__repr__',\n",
       " '__setattr__',\n",
       " '__sizeof__',\n",
       " '__str__',\n",
       " '__subclasshook__',\n",
       " '__weakref__',\n",
       " 'doors',\n",
       " 'engines',\n",
       " 'windows']"
      ]
     },
     "execution_count": 13,
     "metadata": {},
     "output_type": "execute_result"
    }
   ],
   "source": [
    "dir(car1)"
   ]
  },
  {
   "cell_type": "markdown",
   "id": "bd02a555",
   "metadata": {},
   "source": [
    "#### car1"
   ]
  },
  {
   "cell_type": "code",
   "execution_count": 14,
   "id": "46b10f06",
   "metadata": {},
   "outputs": [],
   "source": [
    "car1.window=5\n",
    "car1.door=4"
   ]
  },
  {
   "cell_type": "code",
   "execution_count": 15,
   "id": "49c0efd3",
   "metadata": {},
   "outputs": [
    {
     "name": "stdout",
     "output_type": "stream",
     "text": [
      "5\n"
     ]
    }
   ],
   "source": [
    "print(car1.window)"
   ]
  },
  {
   "cell_type": "code",
   "execution_count": 21,
   "id": "566b5c9b",
   "metadata": {},
   "outputs": [
    {
     "name": "stdout",
     "output_type": "stream",
     "text": [
      "diesel\n"
     ]
    }
   ],
   "source": [
    "print(car2.engines)"
   ]
  },
  {
   "cell_type": "code",
   "execution_count": 17,
   "id": "ad388659",
   "metadata": {},
   "outputs": [],
   "source": [
    "car2.window=7\n",
    "car2.door=9"
   ]
  },
  {
   "cell_type": "code",
   "execution_count": null,
   "id": "dd307a0f",
   "metadata": {},
   "outputs": [],
   "source": []
  },
  {
   "cell_type": "code",
   "execution_count": null,
   "id": "a8a2154f",
   "metadata": {},
   "outputs": [],
   "source": []
  },
  {
   "cell_type": "code",
   "execution_count": null,
   "id": "a2d44db5",
   "metadata": {},
   "outputs": [],
   "source": []
  }
 ],
 "metadata": {
  "kernelspec": {
   "display_name": "Python 3 (ipykernel)",
   "language": "python",
   "name": "python3"
  },
  "language_info": {
   "codemirror_mode": {
    "name": "ipython",
    "version": 3
   },
   "file_extension": ".py",
   "mimetype": "text/x-python",
   "name": "python",
   "nbconvert_exporter": "python",
   "pygments_lexer": "ipython3",
   "version": "3.10.9"
  }
 },
 "nbformat": 4,
 "nbformat_minor": 5
}
